{
 "cells": [
  {
   "cell_type": "code",
   "execution_count": 1,
   "metadata": {},
   "outputs": [],
   "source": [
    "def degree(partition):\n",
    "    \"\"\"Return the degree (sum of parts) of a partition.\"\"\"\n",
    "    return sum(partition)\n",
    "\n",
    "def compare_by_degree(p1, p2):\n",
    "    \"\"\"Compare two partitions by their degrees.\"\"\"\n",
    "    d1, d2 = degree(p1), degree(p2)\n",
    "    if d1 < d2:\n",
    "        return -1\n",
    "    elif d1 > d2:\n",
    "        return 1\n",
    "    return 0\n"
   ]
  },
  {
   "cell_type": "code",
   "execution_count": 38,
   "metadata": {},
   "outputs": [
    {
     "name": "stdout",
     "output_type": "stream",
     "text": [
      "(3, 1)\n"
     ]
    }
   ],
   "source": [
    "\n",
    "def generate_partitions(n, max_part=None):\n",
    "    \"\"\"Generate all partitions of n.\"\"\"\n",
    "    if n == 0:\n",
    "        yield ()\n",
    "    else:\n",
    "        if max_part is None or max_part > n:\n",
    "            max_part = n\n",
    "        for first in range(max_part, 0, -1):\n",
    "            for rest in generate_partitions(n - first, first):\n",
    "                yield (first,) + rest\n",
    "\n",
    "# --- Example usage ---\n",
    "p = (3, 1)  # partition\n",
    "\n",
    "print(p)\n",
    "\n"
   ]
  },
  {
   "cell_type": "code",
   "execution_count": 39,
   "metadata": {},
   "outputs": [],
   "source": [
    "def subset_partitions(partition):\n",
    "    \"\"\"Return all partitions with degree <= degree(partition).\"\"\"\n",
    "    d = degree(partition)\n",
    "    result = []\n",
    "    for n in range(d + 1):\n",
    "        result.extend(generate_partitions(n))\n",
    "    return result"
   ]
  },
  {
   "cell_type": "code",
   "execution_count": 40,
   "metadata": {},
   "outputs": [
    {
     "name": "stdout",
     "output_type": "stream",
     "text": [
      "Degree of p: 4\n",
      "Compare p and q: 1\n",
      "All partitions with degree ≤ 4:\n",
      "[(), (1,), (2,), (1, 1), (3,), (2, 1), (1, 1, 1), (4,), (3, 1), (2, 2), (2, 1, 1), (1, 1, 1, 1)]\n"
     ]
    }
   ],
   "source": [
    "\n",
    "print(\"Degree of p:\", degree(p))\n",
    "\n",
    "q = (1, 1)\n",
    "print(\"Compare p and q:\", compare_by_degree(p, q))  # 0 means equal\n",
    "\n",
    "subset = subset_partitions(p)\n",
    "print(f\"All partitions with degree ≤ {degree(p)}:\")\n",
    "print(subset)\n"
   ]
  },
  {
   "cell_type": "code",
   "execution_count": 58,
   "metadata": {},
   "outputs": [
    {
     "data": {
      "text/plain": [
       "[]"
      ]
     },
     "execution_count": 58,
     "metadata": {},
     "output_type": "execute_result"
    }
   ],
   "source": [
    "def solve_system_gauss(k: int, k1: int, k2: int, k3: int, k4: int) -> List[Dict[str, int]]:\n"
   ]
  },
  {
   "cell_type": "code",
   "execution_count": 42,
   "metadata": {},
   "outputs": [
    {
     "name": "stdout",
     "output_type": "stream",
     "text": [
      "\n",
      "|λ| = 5, |μ| = 8\n",
      "\n",
      "Partitions with degree ≤ |λ|:\n",
      "0: ()\n",
      "1: (1,)\n",
      "2: (2,)\n",
      "3: (1, 1)\n",
      "4: (3,)\n",
      "5: (2, 1)\n",
      "6: (1, 1, 1)\n",
      "7: (4,)\n",
      "8: (3, 1)\n",
      "9: (2, 2)\n",
      "10: (2, 1, 1)\n",
      "11: (1, 1, 1, 1)\n",
      "12: (5,)\n",
      "13: (4, 1)\n",
      "14: (3, 2)\n",
      "15: (3, 1, 1)\n",
      "16: (2, 2, 1)\n",
      "17: (2, 1, 1, 1)\n",
      "18: (1, 1, 1, 1, 1)\n",
      "\n",
      "Partitions with degree ≤ |μ|:\n",
      "0: ()\n",
      "1: (1,)\n",
      "2: (2,)\n",
      "3: (1, 1)\n",
      "4: (3,)\n",
      "5: (2, 1)\n",
      "6: (1, 1, 1)\n",
      "7: (4,)\n",
      "8: (3, 1)\n",
      "9: (2, 2)\n",
      "10: (2, 1, 1)\n",
      "11: (1, 1, 1, 1)\n",
      "12: (5,)\n",
      "13: (4, 1)\n",
      "14: (3, 2)\n",
      "15: (3, 1, 1)\n",
      "16: (2, 2, 1)\n",
      "17: (2, 1, 1, 1)\n",
      "18: (1, 1, 1, 1, 1)\n",
      "19: (6,)\n",
      "20: (5, 1)\n",
      "21: (4, 2)\n",
      "22: (4, 1, 1)\n",
      "23: (3, 3)\n",
      "24: (3, 2, 1)\n",
      "25: (3, 1, 1, 1)\n",
      "26: (2, 2, 2)\n",
      "27: (2, 2, 1, 1)\n",
      "28: (2, 1, 1, 1, 1)\n",
      "29: (1, 1, 1, 1, 1, 1)\n",
      "30: (7,)\n",
      "31: (6, 1)\n",
      "32: (5, 2)\n",
      "33: (5, 1, 1)\n",
      "34: (4, 3)\n",
      "35: (4, 2, 1)\n",
      "36: (4, 1, 1, 1)\n",
      "37: (3, 3, 1)\n",
      "38: (3, 2, 2)\n",
      "39: (3, 2, 1, 1)\n",
      "40: (3, 1, 1, 1, 1)\n",
      "41: (2, 2, 2, 1)\n",
      "42: (2, 2, 1, 1, 1)\n",
      "43: (2, 1, 1, 1, 1, 1)\n",
      "44: (1, 1, 1, 1, 1, 1, 1)\n",
      "45: (8,)\n",
      "46: (7, 1)\n",
      "47: (6, 2)\n",
      "48: (6, 1, 1)\n",
      "49: (5, 3)\n",
      "50: (5, 2, 1)\n",
      "51: (5, 1, 1, 1)\n",
      "52: (4, 4)\n",
      "53: (4, 3, 1)\n",
      "54: (4, 2, 2)\n",
      "55: (4, 2, 1, 1)\n",
      "56: (4, 1, 1, 1, 1)\n",
      "57: (3, 3, 2)\n",
      "58: (3, 3, 1, 1)\n",
      "59: (3, 2, 2, 1)\n",
      "60: (3, 2, 1, 1, 1)\n",
      "61: (3, 1, 1, 1, 1, 1)\n",
      "62: (2, 2, 2, 2)\n",
      "63: (2, 2, 2, 1, 1)\n",
      "64: (2, 2, 1, 1, 1, 1)\n",
      "65: (2, 1, 1, 1, 1, 1, 1)\n",
      "66: (1, 1, 1, 1, 1, 1, 1, 1)\n",
      "\n",
      "Chosen λ' = (3,), degree = 3\n",
      "Chosen μ' = (2, 2, 1), degree = 5\n",
      "\n",
      "Given k = 4, |λ| = 5, |μ| = 8, deg λ' = 3, deg μ' = 5, solutions are:\n",
      "❗  No solutions found – check the feasibility conditions.\n"
     ]
    }
   ],
   "source": [
    "\n",
    "def Master():\n",
    "    # ----  INPUT λ and μ  ----------------------------------------\n",
    "    lam = tuple(map(int, input(\"Enter λ (space‑separated parts): \").split()))\n",
    "    mu  = tuple(map(int, input(\"Enter μ (space‑separated parts): \").split()))\n",
    "\n",
    "    k1, k3 = degree(lam), degree(mu)\n",
    "    print(f\"\\n|λ| = {k1}, |μ| = {k3}\")\n",
    "\n",
    "    # ----  show all partitions ≤ those degrees --------------------\n",
    "    lam_subset = subset_partitions(lam)\n",
    "    mu_subset  = subset_partitions(mu)\n",
    "\n",
    "    print(\"\\nPartitions with degree ≤ |λ|:\")\n",
    "    for i, p in enumerate(lam_subset):\n",
    "        print(f\"{i}: {p}\")\n",
    "\n",
    "    print(\"\\nPartitions with degree ≤ |μ|:\")\n",
    "    for i, p in enumerate(mu_subset):\n",
    "        print(f\"{i}: {p}\")\n",
    "\n",
    "    # ----  user picks λ' and μ' ----------------------------------\n",
    "    lam_choice = int(input(\"\\nSelect index for λ': \"))\n",
    "    mu_choice  = int(input(\"Select index for μ': \"))\n",
    "\n",
    "    lam_prime = lam_subset[lam_choice]\n",
    "    mu_prime  = mu_subset[mu_choice]\n",
    "\n",
    "    k2 = degree(lam_prime)   # degree of the chosen λ'\n",
    "    k4 = degree(mu_prime)    # degree of the chosen μ'\n",
    "\n",
    "    print(f\"\\nChosen λ' = {lam_prime}, degree = {k2}\")\n",
    "    print(f\"Chosen μ' = {mu_prime}, degree = {k4}\")\n",
    "\n",
    "    # ----  constant k -------------------------------------------\n",
    "    k = int(input(\"\\nEnter fixed constant k: \"))\n",
    "\n",
    "    # ----  solve -------------------------------------------------\n",
    "    sols = solve_system(k, k1, k2, k3, k4)\n",
    "\n",
    "    print(f\"\\nGiven k = {k}, |λ| = {k1}, |μ| = {k3}, \"\n",
    "          f\"deg λ' = {k2}, deg μ' = {k4}, solutions are:\")\n",
    "    if not sols:\n",
    "        print(\"❗  No solutions found – check the feasibility conditions.\")\n",
    "    else:\n",
    "        for s in sols:\n",
    "            print(s)\n",
    "\n",
    "Master()"
   ]
  },
  {
   "cell_type": "code",
   "execution_count": null,
   "metadata": {},
   "outputs": [],
   "source": []
  }
 ],
 "metadata": {
  "kernelspec": {
   "display_name": ".venv",
   "language": "python",
   "name": "python3"
  },
  "language_info": {
   "codemirror_mode": {
    "name": "ipython",
    "version": 3
   },
   "file_extension": ".py",
   "mimetype": "text/x-python",
   "name": "python",
   "nbconvert_exporter": "python",
   "pygments_lexer": "ipython3",
   "version": "3.9.6"
  }
 },
 "nbformat": 4,
 "nbformat_minor": 2
}
