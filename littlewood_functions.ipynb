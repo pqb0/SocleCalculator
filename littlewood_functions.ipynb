{
 "cells": [
  {
   "cell_type": "code",
   "execution_count": 1,
   "metadata": {
    "vscode": {
     "languageId": "plaintext"
    }
   },
   "outputs": [
    {
     "name": "stdout",
     "output_type": "stream",
     "text": [
      "c_{(2, 1),(),(2, 1),(1,)}^{(3, 2, 2)} = 3\n"
     ]
    }
   ],
   "source": [
    "from sage.libs.lrcalc.lrcalc import lrcoef\n",
    "\n",
    "def lrcoef_two(mu, nu, lam):\n",
    "    \"\"\"\n",
    "    Compute the Littlewood–Richardson coefficient c_{mu,nu}^lam\n",
    "    using Sage's lrcalc.lrcoef.\n",
    "    \n",
    "    Arguments:\n",
    "        mu, nu, lam: tuples of integers representing partitions\n",
    "                     (e.g., (3,1) for partition 3+1).\n",
    "    Returns:\n",
    "        Integer Littlewood–Richardson coefficient.\n",
    "    \"\"\"\n",
    "    return lrcoef(lam, mu, nu)\n",
    "\n",
    "\n",
    "def lrcoef_four(mu1, mu2, mu3, mu4, lam):\n",
    "    \"\"\"\n",
    "    Compute the Littlewood–Richardson coefficient c_{mu1,mu2,mu3,mu4}^lam.\n",
    "    \n",
    "    Uses the formula:\n",
    "      c_{mu1,mu2,mu3,mu4}^lam = sum_{nu1,nu2}\n",
    "        c_{mu1,mu2}^{nu1} * c_{mu3,mu4}^{nu2} * c_{nu1,nu2}^lam.\n",
    "    \n",
    "    Arguments:\n",
    "        mu1, mu2, mu3, mu4, lam: tuples representing partitions.\n",
    "    Returns:\n",
    "        Integer Littlewood–Richardson coefficient.\n",
    "    \"\"\"\n",
    "    deg_mu = sum(mu1) + sum(mu2) + sum(mu3) + sum(mu4)\n",
    "    if sum(lam) != deg_mu:\n",
    "        return 0  # automatic weight check\n",
    "    \n",
    "    result = 0\n",
    "    # Step 1: generate candidate nu1 partitions of size |mu1|+|mu2|\n",
    "    size_nu1 = sum(mu1) + sum(mu2)\n",
    "    size_nu2 = sum(mu3) + sum(mu4)\n",
    "    \n",
    "    # Strategy: only paartitions that appear in the product s_mu1 * s_mu2\n",
    "    # contribute, same for mu3 * mu4. We call lrcoef with lam varying.\n",
    "    \n",
    "    # Generate all possible nu1 of the right size by brute force up to lam\n",
    "    # For efficiency: we can just ask lrcalc.mult\n",
    "    from sage.libs.lrcalc.lrcalc import mult\n",
    "    \n",
    "    prod12 = mult(mu1, mu2)  # dictionary: partition -> coefficient\n",
    "    prod34 = mult(mu3, mu4)\n",
    "    \n",
    "    for nu1, coeff12 in prod12.items():\n",
    "        for nu2, coeff34 in prod34.items():\n",
    "            coeff_lambda = lrcoef(lam, nu1, nu2)\n",
    "            if coeff_lambda != 0:\n",
    "                result += coeff12 * coeff34 * coeff_lambda\n",
    "    return result\n",
    "\n",
    "\n",
    "# ---------------- Example Usage ---------------- #\n",
    "\n",
    "mu1 = (2,1)       # partition (2)\n",
    "mu2 = ()       # partition (1)\n",
    "mu3 = (2,1)       # partition (1)\n",
    "mu4 = (1,)       # partition (1)\n",
    "lam = (3,2,2)      # partition (3,2)\n",
    "\n",
    "print(f\"c_{{{mu1},{mu2},{mu3},{mu4}}}^{{{lam}}} = {lrcoef_four(mu1,mu2,mu3,mu4,lam)}\")\n"
   ]
  }
 ],
 "metadata": {
  "kernelspec": {
   "display_name": "SageMath 10.7",
   "language": "sage",
   "name": "SageMath-10.7"
  },
  "language_info": {
   "codemirror_mode": {
    "name": "ipython",
    "version": 3
   },
   "file_extension": ".py",
   "mimetype": "text/x-python",
   "name": "sage",
   "nbconvert_exporter": "python",
   "pygments_lexer": "ipython3",
   "version": "3.13.3"
  }
 },
 "nbformat": 4,
 "nbformat_minor": 2
}
